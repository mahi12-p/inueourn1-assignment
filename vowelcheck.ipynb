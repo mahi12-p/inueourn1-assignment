{
  "nbformat": 4,
  "nbformat_minor": 0,
  "metadata": {
    "colab": {
      "name": "Untitled29.ipynb",
      "provenance": []
    },
    "kernelspec": {
      "name": "python3",
      "display_name": "Python 3"
    }
  },
  "cells": [
    {
      "cell_type": "code",
      "metadata": {
        "id": "q5BJp2VRlyvT"
      },
      "source": [
        "##to check character is vowel or not\r\n",
        "def vowel_check(char):\r\n",
        "  if char==\"a\" or char==\"e\" or char==\"i\" or char==\"o\" or char==\"u\":\r\n",
        "       return True\r\n",
        "  else:\r\n",
        "    return False\r\n"
      ],
      "execution_count": 3,
      "outputs": []
    },
    {
      "cell_type": "code",
      "metadata": {
        "colab": {
          "base_uri": "https://localhost:8080/"
        },
        "id": "-s2nAhs6m6fk",
        "outputId": "5a8faf53-7116-4cca-dc2a-e97221a46c31"
      },
      "source": [
        "vowel_check(input(\"input your character: \"))"
      ],
      "execution_count": 4,
      "outputs": [
        {
          "output_type": "stream",
          "text": [
            "input your character: u\n"
          ],
          "name": "stdout"
        },
        {
          "output_type": "execute_result",
          "data": {
            "text/plain": [
              "True"
            ]
          },
          "metadata": {
            "tags": []
          },
          "execution_count": 4
        }
      ]
    }
  ]
}