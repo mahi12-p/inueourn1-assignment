{
  "nbformat": 4,
  "nbformat_minor": 0,
  "metadata": {
    "colab": {
      "name": "Untitled18.ipynb",
      "provenance": []
    },
    "kernelspec": {
      "name": "python3",
      "display_name": "Python 3"
    }
  },
  "cells": [
    {
      "cell_type": "code",
      "metadata": {
        "colab": {
          "base_uri": "https://localhost:8080/"
        },
        "id": "-UkzVCrJV2c1",
        "outputId": "b1f52ac1-6a11-46fd-f17d-e0f218bb29f2"
      },
      "source": [
        "lst= input().split(',')\r\n",
        "print(lst)\r\n"
      ],
      "execution_count": 6,
      "outputs": [
        {
          "output_type": "stream",
          "text": [
            "89,78,67,56,54,43\n",
            "['89', '78', '67', '56', '54', '43']\n"
          ],
          "name": "stdout"
        }
      ]
    }
  ]
}