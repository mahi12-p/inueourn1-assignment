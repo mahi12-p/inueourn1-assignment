{
  "nbformat": 4,
  "nbformat_minor": 0,
  "metadata": {
    "colab": {
      "name": "Untitled23.ipynb",
      "provenance": []
    },
    "kernelspec": {
      "name": "python3",
      "display_name": "Python 3"
    }
  },
  "cells": [
    {
      "cell_type": "code",
      "metadata": {
        "id": "3TjVXsU8WuJK"
      },
      "source": [
        "def myreduce(func,values):\r\n",
        "  result=values[0]\r\n",
        "  for i in values[1:]:\r\n",
        "    result=func(result,i)\r\n",
        "    return result"
      ],
      "execution_count": 38,
      "outputs": []
    },
    {
      "cell_type": "code",
      "metadata": {
        "id": "Dkzwa5UwxeEh"
      },
      "source": [
        "def func(a,b):\r\n",
        "  return a * b"
      ],
      "execution_count": 39,
      "outputs": []
    },
    {
      "cell_type": "code",
      "metadata": {
        "id": "0SVnN_F3xo2o",
        "outputId": "9e895fae-eb2a-47be-ff26-dbe7d6f0ff85",
        "colab": {
          "base_uri": "https://localhost:8080/"
        }
      },
      "source": [
        "l=[1,2,3,4,5]\r\n",
        "print(f\"my reduce output is:{myreduce(func,l)}\")"
      ],
      "execution_count": 40,
      "outputs": [
        {
          "output_type": "stream",
          "text": [
            "my reduce output is:2\n"
          ],
          "name": "stdout"
        }
      ]
    }
  ]
}