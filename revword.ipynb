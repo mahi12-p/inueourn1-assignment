{
  "nbformat": 4,
  "nbformat_minor": 0,
  "metadata": {
    "colab": {
      "name": "Untitled14.ipynb",
      "provenance": []
    },
    "kernelspec": {
      "name": "python3",
      "display_name": "Python 3"
    }
  },
  "cells": [
    {
      "cell_type": "code",
      "metadata": {
        "id": "GQGHoWinp4jL",
        "colab": {
          "base_uri": "https://localhost:8080/"
        },
        "outputId": "2eaa048b-15da-4180-8cc7-2b12c8475bac"
      },
      "source": [
        "##write a python program to reverse a word after accepting the input from user\r\n",
        "word=input(\"enter a word:\")\r\n",
        "revword=word[::-1]\r\n",
        "print(\"reverse word is\",revword )"
      ],
      "execution_count": 5,
      "outputs": [
        {
          "output_type": "stream",
          "text": [
            "enter a word:inueron\n",
            "reverse word is noreuni\n"
          ],
          "name": "stdout"
        }
      ]
    }
  ]
}