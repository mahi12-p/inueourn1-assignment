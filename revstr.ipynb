{
  "nbformat": 4,
  "nbformat_minor": 0,
  "metadata": {
    "colab": {
      "name": "Untitled8.ipynb",
      "provenance": []
    },
    "kernelspec": {
      "name": "python3",
      "display_name": "Python 3"
    }
  },
  "cells": [
    {
      "cell_type": "code",
      "metadata": {
        "id": "-bJzjeBeElqt"
      },
      "source": [
        "##Write a python program to accept the user's first and last name and then getting them printed in the reverse order with a space between first name and last name"
      ],
      "execution_count": 15,
      "outputs": []
    },
    {
      "cell_type": "code",
      "metadata": {
        "colab": {
          "base_uri": "https://localhost:8080/"
        },
        "id": "sp68tqyJFW3e",
        "outputId": "4d11f40a-9f95-44e0-8e8a-d97bbc0642f0"
      },
      "source": [
        "name=list()\r\n",
        "rev_name=list()\r\n",
        "first_name=input(\"enter your first name:\")\r\n",
        "name.append(first_name)\r\n",
        "rev_name.append(first_name[::-1])\r\n",
        "last_name=input(\"enter your last name:\")\r\n",
        "name.append(last_name)\r\n",
        "rev_name.append(last_name[::-1])\r\n",
        "print(\"reverse name letter is:{first_name[::-1]}{last_name[::-1]}\")\r\n",
        "print(\"reverse full name is\" +\" \".join(name[::-1]))\r\n",
        "print(\"reverse full name with letters is:\" +\" \".join(rev_name[::-1]))"
      ],
      "execution_count": 16,
      "outputs": [
        {
          "output_type": "stream",
          "text": [
            "enter your first name:mahi\n",
            "enter your last name:patne\n",
            "reverse name letter is:{first_name[::-1]}{last_name[::-1]}\n",
            "reverse full name ispatne mahi\n",
            "reverse full name with letters is:entap iham\n"
          ],
          "name": "stdout"
        }
      ]
    }
  ]
}