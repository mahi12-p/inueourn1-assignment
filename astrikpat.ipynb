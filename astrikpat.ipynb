{
  "nbformat": 4,
  "nbformat_minor": 0,
  "metadata": {
    "colab": {
      "name": "Untitled32.ipynb",
      "provenance": []
    },
    "kernelspec": {
      "name": "python3",
      "display_name": "Python 3"
    }
  },
  "cells": [
    {
      "cell_type": "code",
      "metadata": {
        "colab": {
          "base_uri": "https://localhost:8080/"
        },
        "id": "s0FXX7pgRY8K",
        "outputId": "e2b33459-fdbc-4265-e9a4-6f1c6d7638e6"
      },
      "source": [
        "##program for asteric pattern using nested loop\r\n",
        "for i in range(1,6):\r\n",
        "  for j in range(1,i+1):\r\n",
        "    print(\"*\",end=\" \")\r\n",
        "  print()"
      ],
      "execution_count": 28,
      "outputs": [
        {
          "output_type": "stream",
          "text": [
            "* \n",
            "* * \n",
            "* * * \n",
            "* * * * \n",
            "* * * * * \n"
          ],
          "name": "stdout"
        }
      ]
    },
    {
      "cell_type": "code",
      "metadata": {
        "colab": {
          "base_uri": "https://localhost:8080/"
        },
        "id": "_633u7gqWOb_",
        "outputId": "4b3bbe67-99d2-4eb1-937c-1baadebc57bf"
      },
      "source": [
        "for i in range(1,6):\r\n",
        "   for j in range(1,6-i):\r\n",
        "     print(\"*\",end=\" \")\r\n",
        "print()"
      ],
      "execution_count": 29,
      "outputs": [
        {
          "output_type": "stream",
          "text": [
            "* * * * * * * * * * \n"
          ],
          "name": "stdout"
        }
      ]
    },
    {
      "cell_type": "code",
      "metadata": {
        "id": "9glz_hpBUpnz"
      },
      "source": [
        ""
      ],
      "execution_count": 29,
      "outputs": []
    },
    {
      "cell_type": "code",
      "metadata": {
        "colab": {
          "base_uri": "https://localhost:8080/"
        },
        "id": "CAeL0L03TJzj",
        "outputId": "15778895-28ae-424f-91c4-ada0624fd8ea"
      },
      "source": [
        "for i in range(1,6):\r\n",
        "  for j in range(1,6-i):\r\n",
        "    print(\"*\",end=\" \")\r\n",
        "  print()"
      ],
      "execution_count": 30,
      "outputs": [
        {
          "output_type": "stream",
          "text": [
            "* * * * \n",
            "* * * \n",
            "* * \n",
            "* \n",
            "\n"
          ],
          "name": "stdout"
        }
      ]
    }
  ]
}