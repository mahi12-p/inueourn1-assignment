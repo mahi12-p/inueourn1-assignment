{
  "nbformat": 4,
  "nbformat_minor": 0,
  "metadata": {
    "colab": {
      "name": "Untitled25.ipynb",
      "provenance": []
    },
    "kernelspec": {
      "name": "python3",
      "display_name": "Python 3"
    }
  },
  "cells": [
    {
      "cell_type": "code",
      "metadata": {
        "id": "DYlFIl4s4Dkx",
        "colab": {
          "base_uri": "https://localhost:8080/"
        },
        "outputId": "148a64ca-78b2-49d0-cb65-0d5375b866d0"
      },
      "source": [
        "##implement list comprehension\r\n",
        "l1=['x','y','z']\r\n",
        "lst1=[i*j for j in l1 for i in range(1,5)]\r\n",
        "lst1"
      ],
      "execution_count": 11,
      "outputs": [
        {
          "output_type": "execute_result",
          "data": {
            "text/plain": [
              "['x', 'xx', 'xxx', 'xxxx', 'y', 'yy', 'yyy', 'yyyy', 'z', 'zz', 'zzz', 'zzzz']"
            ]
          },
          "metadata": {
            "tags": []
          },
          "execution_count": 11
        }
      ]
    },
    {
      "cell_type": "code",
      "metadata": {
        "id": "8UTwXgih6Py5"
      },
      "source": [
        ""
      ],
      "execution_count": 11,
      "outputs": []
    },
    {
      "cell_type": "code",
      "metadata": {
        "colab": {
          "base_uri": "https://localhost:8080/"
        },
        "id": "IsbjiCbB5aQd",
        "outputId": "7407f7fa-b204-454d-8c9c-658062d94a48"
      },
      "source": [
        "l2=['x','y','z']\r\n",
        "lst2=[i*j for j in range(1,5) for i in l2]\r\n",
        "lst2\r\n"
      ],
      "execution_count": 12,
      "outputs": [
        {
          "output_type": "execute_result",
          "data": {
            "text/plain": [
              "['x', 'y', 'z', 'xx', 'yy', 'zz', 'xxx', 'yyy', 'zzz', 'xxxx', 'yyyy', 'zzzz']"
            ]
          },
          "metadata": {
            "tags": []
          },
          "execution_count": 12
        }
      ]
    },
    {
      "cell_type": "code",
      "metadata": {
        "colab": {
          "base_uri": "https://localhost:8080/"
        },
        "id": "5pTly9uW6ahx",
        "outputId": "d33c155a-802a-44f0-d604-3e6f7568363a"
      },
      "source": [
        "lst3=[[x+y] for y in range(3) for x in range(2,5)]\r\n",
        "lst3\r\n"
      ],
      "execution_count": 13,
      "outputs": [
        {
          "output_type": "execute_result",
          "data": {
            "text/plain": [
              "[[2], [3], [4], [3], [4], [5], [4], [5], [6]]"
            ]
          },
          "metadata": {
            "tags": []
          },
          "execution_count": 13
        }
      ]
    },
    {
      "cell_type": "code",
      "metadata": {
        "colab": {
          "base_uri": "https://localhost:8080/"
        },
        "id": "DbcmswHU7N1t",
        "outputId": "8e148f27-7b64-466f-8d60-b07e8f0c21e5"
      },
      "source": [
        "lst4=[[a+b for b in range(2,6)] for a in range(4)]\r\n",
        "lst4"
      ],
      "execution_count": 14,
      "outputs": [
        {
          "output_type": "execute_result",
          "data": {
            "text/plain": [
              "[[2, 3, 4, 5], [3, 4, 5, 6], [4, 5, 6, 7], [5, 6, 7, 8]]"
            ]
          },
          "metadata": {
            "tags": []
          },
          "execution_count": 14
        }
      ]
    },
    {
      "cell_type": "code",
      "metadata": {
        "colab": {
          "base_uri": "https://localhost:8080/"
        },
        "id": "4_VWOBPK70Wz",
        "outputId": "31660eb7-5f2d-47c4-9c9d-30ff9df631ab"
      },
      "source": [
        "lst5=[(p,q) for q in range(1,4) for p in range(1,4)]\r\n",
        "lst5"
      ],
      "execution_count": 15,
      "outputs": [
        {
          "output_type": "execute_result",
          "data": {
            "text/plain": [
              "[(1, 1), (2, 1), (3, 1), (1, 2), (2, 2), (3, 2), (1, 3), (2, 3), (3, 3)]"
            ]
          },
          "metadata": {
            "tags": []
          },
          "execution_count": 15
        }
      ]
    }
  ]
}