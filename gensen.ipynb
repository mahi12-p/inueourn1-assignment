{
  "nbformat": 4,
  "nbformat_minor": 0,
  "metadata": {
    "colab": {
      "name": "Untitled31.ipynb",
      "provenance": []
    },
    "kernelspec": {
      "name": "python3",
      "display_name": "Python 3"
    }
  },
  "cells": [
    {
      "cell_type": "code",
      "metadata": {
        "id": "xQXzuYgssdvj"
      },
      "source": [
        "#implement a python program generates all sentence\r\n",
        "subjects=[\"Americans\", \"indians\"]\r\n",
        "verbs=[\"play\", \"watch\"]\r\n",
        "objects=[\"baseball\" , \"cricket\"]\r\n",
        "sentence=[s+ \" \" + v + \" \" + o for s in subjects for v in verbs for o in objects]\r\n"
      ],
      "execution_count": 1,
      "outputs": []
    },
    {
      "cell_type": "code",
      "metadata": {
        "colab": {
          "base_uri": "https://localhost:8080/"
        },
        "id": "-xYYvHN0tiLH",
        "outputId": "021b9146-5e7c-4d14-bfb4-3e0617c760b0"
      },
      "source": [
        "for i in sentence:\r\n",
        "  print(i)"
      ],
      "execution_count": 2,
      "outputs": [
        {
          "output_type": "stream",
          "text": [
            "Americans play baseball\n",
            "Americans play cricket\n",
            "Americans watch baseball\n",
            "Americans watch cricket\n",
            "indians play baseball\n",
            "indians play cricket\n",
            "indians watch baseball\n",
            "indians watch cricket\n"
          ],
          "name": "stdout"
        }
      ]
    }
  ]
}