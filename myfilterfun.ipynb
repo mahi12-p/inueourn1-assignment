{
  "nbformat": 4,
  "nbformat_minor": 0,
  "metadata": {
    "colab": {
      "name": "Untitled24.ipynb",
      "provenance": []
    },
    "kernelspec": {
      "name": "python3",
      "display_name": "Python 3"
    }
  },
  "cells": [
    {
      "cell_type": "code",
      "metadata": {
        "id": "UvI6cNkPzrgW"
      },
      "source": [
        "## to implement myfilter()\r\n",
        "def myfilter(fun,values):\r\n",
        "  result=list()\r\n",
        "  for i in values:\r\n",
        "    if fun(i):\r\n",
        "      result.append(i)\r\n",
        "      return result"
      ],
      "execution_count": 17,
      "outputs": []
    },
    {
      "cell_type": "code",
      "metadata": {
        "id": "KsB0qaaj0VWq"
      },
      "source": [
        ""
      ],
      "execution_count": 17,
      "outputs": []
    },
    {
      "cell_type": "code",
      "metadata": {
        "id": "q3xwTyMJ0Vlf"
      },
      "source": [
        "def fun(x):\r\n",
        "  if x % 5 == 0:\r\n",
        "    return True\r\n",
        "  else:\r\n",
        "    return False"
      ],
      "execution_count": 18,
      "outputs": []
    },
    {
      "cell_type": "code",
      "metadata": {
        "colab": {
          "base_uri": "https://localhost:8080/"
        },
        "id": "7ee6g_uW0xRO",
        "outputId": "b723b75c-f745-47ce-8e34-7d82a5e18fb2"
      },
      "source": [
        "lst=[12,15,60,34,53]\r\n",
        "print(f\"my filter output is: {myfilter(fun,lst)}\")"
      ],
      "execution_count": 19,
      "outputs": [
        {
          "output_type": "stream",
          "text": [
            "my filter output is: [15]\n"
          ],
          "name": "stdout"
        }
      ]
    }
  ]
}