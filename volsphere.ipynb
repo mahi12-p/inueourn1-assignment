{
  "nbformat": 4,
  "nbformat_minor": 0,
  "metadata": {
    "colab": {
      "name": "Untitled13.ipynb",
      "provenance": []
    },
    "kernelspec": {
      "name": "python3",
      "display_name": "Python 3"
    }
  },
  "cells": [
    {
      "cell_type": "code",
      "metadata": {
        "colab": {
          "base_uri": "https://localhost:8080/"
        },
        "id": "2cMzGxT6janz",
        "outputId": "0a2352ec-0f19-4617-ec41-29294cf2cb0e"
      },
      "source": [
        "##write a python program to find the volume of a sphere with diameter 12 cm.\r\n",
        "pi=3.14\r\n",
        "d=12\r\n",
        "r=6.0\r\n",
        "v=4.0/3.0*pi* r**3\r\n",
        "print(\"volume of sphere is\" , v)"
      ],
      "execution_count": 10,
      "outputs": [
        {
          "output_type": "stream",
          "text": [
            "volume of sphere is 904.3199999999999\n"
          ],
          "name": "stdout"
        }
      ]
    },
    {
      "cell_type": "code",
      "metadata": {
        "id": "1b70feyAknYS"
      },
      "source": [
        ""
      ],
      "execution_count": 10,
      "outputs": []
    }
  ]
}