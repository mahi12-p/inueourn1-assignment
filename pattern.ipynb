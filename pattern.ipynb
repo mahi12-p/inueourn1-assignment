{
  "nbformat": 4,
  "nbformat_minor": 0,
  "metadata": {
    "colab": {
      "name": "Untitled11.ipynb",
      "provenance": []
    },
    "kernelspec": {
      "name": "python3",
      "display_name": "Python 3"
    }
  },
  "cells": [
    {
      "cell_type": "code",
      "metadata": {
        "id": "X6tmCUmyOfhL"
      },
      "source": [
        "###create the below pattern using nested for loop in python"
      ],
      "execution_count": 39,
      "outputs": []
    },
    {
      "cell_type": "code",
      "metadata": {
        "id": "dx7Az4-UVgkZ"
      },
      "source": [
        "def pattern(n):\r\n",
        "  k=2*n-2\r\n",
        "  for i in range(0,n-1):\r\n",
        "    for j in range(0,k):\r\n",
        "      print(end=\" \")\r\n",
        "      k=k-2\r\n",
        "      for j in range(0,i+1):\r\n",
        "        print(\"*\",end=\"\")\r\n",
        "        k=-1\r\n",
        "        for i in range(n-1,-1,-1):\r\n",
        "          for j in range(k,-1,-1):\r\n",
        "            print(end=\" \")\r\n",
        "            k=k+2\r\n",
        "            for j in range(0,i+1):\r\n",
        "              print(\"*\",end=\"\")\r\n",
        "              pattern(5)\r\n"
      ],
      "execution_count": 40,
      "outputs": []
    }
  ]
}