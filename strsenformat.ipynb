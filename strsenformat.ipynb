{
  "nbformat": 4,
  "nbformat_minor": 0,
  "metadata": {
    "colab": {
      "name": "Untitled17.ipynb",
      "provenance": []
    },
    "kernelspec": {
      "name": "python3",
      "display_name": "Python 3"
    }
  },
  "cells": [
    {
      "cell_type": "code",
      "metadata": {
        "id": "tjJ4sboNPDjC",
        "colab": {
          "base_uri": "https://localhost:8080/"
        },
        "outputId": "6b5b68a3-aa90-402a-974a-3278b54b2635"
      },
      "source": [
        "##write a python program to print the following output\r\n",
        "input_sentence= \"We , THE PEOPLE OF INDIA, having solemnly resloved to constitute India into a SOVERIGN, SECULAR, DEMOCRATIC REPUBLIC AND to all its citizens\"\r\n",
        "print(\"input_sentence : \" + input_sentence)\r\n",
        "\r\n",
        "print(\"\\n\\n\")\r\n",
        "\r\n",
        "formatted_sentence= input_sentence.replace(\"INDIA, \", \"INDIA,\\n\").replace(\"SOVEREIGN, \", \"SOVEREIGN, ! \\n\").replace(\"REPUBLIC\", \"REPUBLIC \\n\") + (\":\")\r\n",
        "print(\"formatted_sentence: \" + formatted_sentence)"
      ],
      "execution_count": 1,
      "outputs": [
        {
          "output_type": "stream",
          "text": [
            "input_sentence : We , THE PEOPLE OF INDIA, having solemnly resloved to constitute India into a SOVERIGN, SECULAR, DEMOCRATIC REPUBLIC AND to all its citizens\n",
            "\n",
            "\n",
            "\n",
            "formatted_sentence: We , THE PEOPLE OF INDIA,\n",
            "having solemnly resloved to constitute India into a SOVERIGN, SECULAR, DEMOCRATIC REPUBLIC \n",
            " AND to all its citizens:\n"
          ],
          "name": "stdout"
        }
      ]
    }
  ]
}