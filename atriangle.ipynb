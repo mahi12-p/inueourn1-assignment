{
  "nbformat": 4,
  "nbformat_minor": 0,
  "metadata": {
    "colab": {
      "name": "Untitled26.ipynb",
      "provenance": []
    },
    "kernelspec": {
      "display_name": "Python 3",
      "name": "python3"
    }
  },
  "cells": [
    {
      "cell_type": "code",
      "metadata": {
        "id": "X3cz7xLMG8-G",
        "colab": {
          "base_uri": "https://localhost:8080/"
        },
        "outputId": "e8650561-c176-425b-87df-89e6fbb1cb9e"
      },
      "source": [
        "##program to find area of triangle\r\n",
        "import sys\r\n",
        "import math\r\n",
        "a=input(\"enter the value of a:\")\r\n",
        "b=input(\"enter the value of b:\")\r\n",
        "c=input(\"enter the value of c\")\r\n",
        "class Triangle:\r\n",
        "  def _init_(self,a,b,c):\r\n",
        "    self.a=a\r\n",
        "    self.b=b\r\n",
        "    self.c=c\r\n",
        "    def area(a,b,c):\r\n",
        "      s=(a+b+c)/2\r\n",
        "      area=math.sqrt(s*(s-a)*(s-b)*(s-c))\r\n",
        "      return area\r\n",
        "      t=Triangle(a,b,c)\r\n",
        "      print(t.area)"
      ],
      "execution_count": 115,
      "outputs": [
        {
          "output_type": "stream",
          "text": [
            "enter the value of a:4\n",
            "enter the value of b:5\n",
            "enter the value of c6\n"
          ],
          "name": "stdout"
        }
      ]
    },
    {
      "cell_type": "code",
      "metadata": {
        "id": "eImnC6OTJeHZ"
      },
      "source": [
        "\r\n",
        "  "
      ],
      "execution_count": 115,
      "outputs": []
    },
    {
      "cell_type": "code",
      "metadata": {
        "id": "KRDBYzDeLMQN"
      },
      "source": [
        ""
      ],
      "execution_count": 115,
      "outputs": []
    },
    {
      "cell_type": "code",
      "metadata": {
        "id": "4WjQhQAgQyD6"
      },
      "source": [
        ""
      ],
      "execution_count": 115,
      "outputs": []
    }
  ]
}