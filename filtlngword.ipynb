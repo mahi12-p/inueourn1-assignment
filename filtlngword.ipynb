{
  "nbformat": 4,
  "nbformat_minor": 0,
  "metadata": {
    "colab": {
      "name": "Untitled27.ipynb",
      "provenance": []
    },
    "kernelspec": {
      "name": "python3",
      "display_name": "Python 3"
    }
  },
  "cells": [
    {
      "cell_type": "code",
      "metadata": {
        "id": "hgsAVvwkhh5F"
      },
      "source": [
        "##write a function filter_long-words\r\n",
        "def filter_long_words(words,n):\r\n",
        "  l=list()\r\n",
        "  for i in words:\r\n",
        "    if len(i) > n:\r\n",
        "      l.append(i)\r\n",
        "      print(f\"longest words are: {l}\")"
      ],
      "execution_count": 6,
      "outputs": []
    },
    {
      "cell_type": "code",
      "metadata": {
        "colab": {
          "base_uri": "https://localhost:8080/"
        },
        "id": "hWjC4r4bie9u",
        "outputId": "df4fbf37-a673-4533-af33-24a39580a550"
      },
      "source": [
        "lst=[\"hello\", \"world\", \"computer\", \"data science\" , \"network\"]\r\n",
        "filter_long_words(lst,6)"
      ],
      "execution_count": 7,
      "outputs": [
        {
          "output_type": "stream",
          "text": [
            "longest words are: ['computer']\n",
            "longest words are: ['computer', 'data science']\n",
            "longest words are: ['computer', 'data science', 'network']\n"
          ],
          "name": "stdout"
        }
      ]
    }
  ]
}