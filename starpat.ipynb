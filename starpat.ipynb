{
  "nbformat": 4,
  "nbformat_minor": 0,
  "metadata": {
    "colab": {
      "name": "Untitled20.ipynb",
      "provenance": []
    },
    "kernelspec": {
      "display_name": "Python 3",
      "name": "python3"
    }
  },
  "cells": [
    {
      "cell_type": "code",
      "metadata": {
        "id": "pF8Vm36bbyUn",
        "colab": {
          "base_uri": "https://localhost:8080/"
        },
        "outputId": "ba25e193-579b-4af2-e0e2-436cf48fb340"
      },
      "source": [
        "print(\"program to print star pattern:\\n\")\r\n",
        "rows=input(\"enter maximum stars you want to display on a single line\")\r\n",
        "rows=int(rows)\r\n",
        "for i in range(0,rows):\r\n",
        "  for j in range(0,i+1):\r\n",
        "    print(\"*\", end='')\r\n",
        "    print(\"\\r\")\r\n",
        "    for i in range(rows,0,1):\r\n",
        "      for j in range(0,i-1):\r\n",
        "        print(\"*\", end='')\r\n",
        "        print(\"\\r\")\r\n",
        "\r\n",
        "    \r\n",
        "          "
      ],
      "execution_count": 13,
      "outputs": [
        {
          "output_type": "stream",
          "text": [
            "program to print star pattern:\n",
            "\n",
            "enter maximum stars you want to display on a single line5\n",
            "*\n",
            "*\n",
            "*\n",
            "*\n",
            "*\n",
            "*\n",
            "*\n",
            "*\n",
            "*\n",
            "*\n",
            "*\n",
            "*\n",
            "*\n",
            "*\n",
            "*\n"
          ],
          "name": "stdout"
        }
      ]
    }
  ]
}