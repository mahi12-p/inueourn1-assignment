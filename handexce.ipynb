{
  "nbformat": 4,
  "nbformat_minor": 0,
  "metadata": {
    "colab": {
      "name": "Untitled30.ipynb",
      "provenance": []
    },
    "kernelspec": {
      "name": "python3",
      "display_name": "Python 3"
    }
  },
  "cells": [
    {
      "cell_type": "code",
      "metadata": {
        "id": "kOfRsoXdqsej"
      },
      "source": [
        "##exception handling\r\n",
        "def HandlingException():\r\n",
        "  try:\r\n",
        "    x= 5 /0\r\n",
        "  except ZeroDivisionError:\r\n",
        "    return f\"division by zero gives infinity\"  "
      ],
      "execution_count": 2,
      "outputs": []
    },
    {
      "cell_type": "code",
      "metadata": {
        "colab": {
          "base_uri": "https://localhost:8080/",
          "height": 35
        },
        "id": "K8SKYrnwsCcR",
        "outputId": "2493ec07-6046-492f-fe93-072731ad2e16"
      },
      "source": [
        "HandlingException()"
      ],
      "execution_count": 3,
      "outputs": [
        {
          "output_type": "execute_result",
          "data": {
            "application/vnd.google.colaboratory.intrinsic+json": {
              "type": "string"
            },
            "text/plain": [
              "'division by zero gives infinity'"
            ]
          },
          "metadata": {
            "tags": []
          },
          "execution_count": 3
        }
      ]
    }
  ]
}